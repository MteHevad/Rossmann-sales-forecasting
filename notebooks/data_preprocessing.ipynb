{
  "nbformat": 4,
  "nbformat_minor": 0,
  "metadata": {
    "colab": {
      "provenance": []
    },
    "kernelspec": {
      "name": "python3",
      "display_name": "Python 3"
    },
    "language_info": {
      "name": "python"
    }
  },
  "cells": [
    {
      "cell_type": "code",
      "execution_count": null,
      "metadata": {
        "id": "-B4d6WCxCVJY"
      },
      "outputs": [],
      "source": [
        "# Importing necessary libraries\n",
        "import pandas as pd\n",
        "import numpy as np"
      ]
    },
    {
      "cell_type": "code",
      "source": [
        "# Loading datasets\n",
        "train = pd.read_csv('../data/raw/train.csv', dtype={'StateHoliday': str})\n",
        "store = pd.read_csv('../data/raw/store.csv')\n",
        "test = pd.read_csv('../data/raw/test.csv', dtype={'StateHoliday': str})"
      ],
      "metadata": {
        "id": "CqKJrxhJCaHG"
      },
      "execution_count": null,
      "outputs": []
    },
    {
      "cell_type": "code",
      "source": [
        "# Merging store data with train and test sets\n",
        "train = pd.merge(train, store, on='Store', how='left')\n",
        "test = pd.merge(test, store, on='Store', how='left')"
      ],
      "metadata": {
        "id": "C-yvLTk1CbjG"
      },
      "execution_count": null,
      "outputs": []
    },
    {
      "cell_type": "code",
      "source": [
        "# Handling missing values\n",
        "train['CompetitionDistance'].fillna(train['CompetitionDistance'].median(), inplace=True)\n",
        "train['Promo2SinceYear'].fillna(0, inplace=True)\n",
        "train['Promo2SinceWeek'].fillna(0, inplace=True)\n",
        "train['PromoInterval'].fillna('None', inplace=True)"
      ],
      "metadata": {
        "id": "CWxoC55KCfy8"
      },
      "execution_count": null,
      "outputs": []
    },
    {
      "cell_type": "code",
      "source": [
        "# Extracting date-related features\n",
        "train['Date'] = pd.to_datetime(train['Date'])\n",
        "train['Month'] = train['Date'].dt.month\n",
        "train['DayOfWeek'] = train['Date'].dt.dayofweek\n",
        "train['Year'] = train['Date'].dt.year"
      ],
      "metadata": {
        "id": "B6_tfIt-Chpj"
      },
      "execution_count": null,
      "outputs": []
    },
    {
      "cell_type": "code",
      "source": [
        "# Saving preprocessed data\n",
        "train.to_csv('../data/processed/train_processed.csv', index=False)\n",
        "test.to_csv('../data/processed/test_processed.csv', index=False)"
      ],
      "metadata": {
        "id": "s7wZRik2Cjeb"
      },
      "execution_count": null,
      "outputs": []
    }
  ]
}
