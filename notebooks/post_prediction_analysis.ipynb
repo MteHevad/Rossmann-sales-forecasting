{
  "nbformat": 4,
  "nbformat_minor": 0,
  "metadata": {
    "colab": {
      "provenance": []
    },
    "kernelspec": {
      "name": "python3",
      "display_name": "Python 3"
    },
    "language_info": {
      "name": "python"
    }
  },
  "cells": [
    {
      "cell_type": "code",
      "execution_count": null,
      "metadata": {
        "id": "foKG8u2xDvRD"
      },
      "outputs": [],
      "source": [
        "# Import necessary libraries\n",
        "import pandas as pd\n",
        "import numpy as np\n",
        "from sklearn.metrics import mean_squared_error\n",
        "import matplotlib.pyplot as plt\n",
        "import joblib"
      ]
    },
    {
      "cell_type": "code",
      "source": [
        "# Load the trained model\n",
        "rf_model = joblib.load('../models/rf_model_2023.pkl')"
      ],
      "metadata": {
        "id": "aQ_dTuezD0Ck"
      },
      "execution_count": null,
      "outputs": []
    },
    {
      "cell_type": "code",
      "source": [
        "# Load validation data\n",
        "X_val = pd.read_csv('../data/processed/validation_data.csv')\n",
        "y_val = pd.read_csv('../data/processed/validation_target.csv')"
      ],
      "metadata": {
        "id": "4eELpRLSD118"
      },
      "execution_count": null,
      "outputs": []
    },
    {
      "cell_type": "code",
      "source": [
        "# Predictions\n",
        "y_pred = rf_model.predict(X_val)"
      ],
      "metadata": {
        "id": "ms1Ov7xXD3sT"
      },
      "execution_count": null,
      "outputs": []
    },
    {
      "cell_type": "code",
      "source": [
        "# Mean Squared Error\n",
        "mse = mean_squared_error(y_val, y_pred)\n",
        "print(f\"Mean Squared Error: {mse}\")"
      ],
      "metadata": {
        "id": "zZbAUIJCD5ZU"
      },
      "execution_count": null,
      "outputs": []
    },
    {
      "cell_type": "code",
      "source": [
        "# Feature importance\n",
        "importances = rf_model.feature_importances_\n",
        "features = X_val.columns\n",
        "plt.figure(figsize=(10, 6))\n",
        "plt.barh(features, importances, color='skyblue')\n",
        "plt.xlabel('Importance')\n",
        "plt.ylabel('Feature')\n",
        "plt.title('Feature Importance for Random Forest Model')\n",
        "plt.show()"
      ],
      "metadata": {
        "id": "tQLI9sO5D6-c"
      },
      "execution_count": null,
      "outputs": []
    },
    {
      "cell_type": "code",
      "source": [
        "# Confidence intervals\n",
        "predictions_std = np.std([tree.predict(X_val) for tree in rf_model.estimators_], axis=0)\n",
        "confidence_intervals = 1.96 * predictions_std"
      ],
      "metadata": {
        "id": "r7eaWwahD84z"
      },
      "execution_count": null,
      "outputs": []
    },
    {
      "cell_type": "code",
      "source": [
        "# Plot predictions with confidence intervals\n",
        "plt.errorbar(range(5), y_pred[:5], yerr=confidence_intervals[:5], fmt='o', color='blue', ecolor='lightgray', elinewidth=3, capsize=5)\n",
        "plt.title('Predictions with Confidence Intervals (First 5)')\n",
        "plt.xlabel('Prediction Index')\n",
        "plt.ylabel('Predicted Sales')\n",
        "plt.show()"
      ],
      "metadata": {
        "id": "E2FmuFVmD-yc"
      },
      "execution_count": null,
      "outputs": []
    }
  ]
}
