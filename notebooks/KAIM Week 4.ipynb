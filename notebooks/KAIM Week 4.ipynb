# Step 1: Import Libraries
import pandas as pd
import seaborn as sns
import matplotlib.pyplot as plt


# Step 2: Manually Upload Files
from google.colab import files
# Use this line to upload files
uploaded = files.upload()
# After uploading, load the data
train_df = pd.read_csv('train.csv')
test_df = pd.read_csv('test.csv')
store_df = pd.read_csv('store.csv')
# Merge train and store data
df = pd.merge(train_df, store_df, on='Store')
# Step 3: Data Cleaning
df.fillna(method='ffill', inplace=True)
# Statistical Metrics Calculation
# Mean, Median, Std Dev, Correlation, etc.

# Mean Sales and Customers
mean_sales = df['Sales'].mean()
mean_customers = df['Customers'].mean()

# Median Sales and Customers
median_sales = df['Sales'].median()
median_customers = df['Customers'].median()

# Standard Deviation of Sales and Customers
std_sales = df['Sales'].std()
std_customers = df['Customers'].std()

# Correlation between Sales and Customers
corr_sales_customers = df[['Sales', 'Customers']].corr()

# Display Results
print(f"Mean Sales: {mean_sales}")
print(f"Mean Customers: {mean_customers}")
print(f"Median Sales: {median_sales}")
print(f"Median Customers: {median_customers}")
print(f"Standard Deviation of Sales: {std_sales}")
print(f"Standard Deviation of Customers: {std_customers}")
print(f"Correlation between Sales and Customers:\n{corr_sales_customers}")
# Step 4: Create Visualizations

# Promotions Distribution
plt.figure(figsize=(10, 6))
sns.histplot(x='Promo', data=df, hue='Promo2', kde=True)
plt.title('Promotion Distribution in Train and Test Sets')
plt.xlabel('Promo')
plt.ylabel('Frequency')
plt.show()
# Sales Behavior Around Holidays
df['Date'] = pd.to_datetime(df['Date'])
holidays = ['Christmas', 'Easter', 'SchoolHoliday']

for holiday in holidays:
    plt.figure(figsize=(10, 6))
    sns.lineplot(x='Date', y='Sales', data=df[df['StateHoliday'] == holiday])
    plt.title(f'Sales Behavior Around {holiday}')
    plt.xlabel('Date')
    plt.ylabel('Sales')
    plt.xticks(rotation=45)
    plt.show()
# Monthly Sales Distribution
plt.figure(figsize=(10, 6))
df['Month'] = df['Date'].dt.month
sns.boxplot(x='Month', y='Sales', data=df)
plt.title('Monthly Sales Distribution')
plt.xlabel('Month')
plt.ylabel('Sales')
plt.show()
# Correlation Between Sales and Customers
plt.figure(figsize=(10, 6))
sns.scatterplot(x='Customers', y='Sales', data=df)
plt.title('Correlation between Sales and Customers')
plt.xlabel('Customers')
plt.ylabel('Sales')
plt.show()
# Impact of Promo on Sales
plt.figure(figsize=(10, 6))
sns.barplot(x='Promo', y='Sales', data=df, hue='Promo2')
plt.title('Impact of Promo on Sales')
plt.xlabel('Promo')
plt.ylabel('Sales')
plt.show()
# Assortment Type Impact on Sales (Assuming correct column name is 'Assortment')
plt.figure(figsize=(10, 6))
sns.boxplot(x='Assortment', y='Sales', data=df)
plt.title('Impact of Assortment Type on Sales')
plt.xlabel('Assortment Type')
plt.ylabel('Sales')
plt.show()
# Distance to Competitor Impact on Sales
plt.figure(figsize=(10, 6))
sns.scatterplot(x='CompetitionDistance', y='Sales', data=df)
plt.title('Impact of Distance to Competitor on Sales')
plt.xlabel('Distance to Competitor')
plt.ylabel('Sales')
plt.show()
# Monthly Sales Distribution
plt.figure(figsize=(10, 6))
df['Month'] = df['Date'].dt.month
sns.boxplot(x='Month', y='Sales', data=df)
plt.title('Monthly Sales Distribution')
plt.xlabel('Month')
plt.ylabel('Sales')
plt.show()
# Promo Effectiveness (Promo vs Sales Over Time)
plt.figure(figsize=(10, 6))
sns.lineplot(x='Date', y='Sales', hue='Promo', data=df)
plt.title('Promo Effectiveness Over Time')
plt.xlabel('Date')
plt.ylabel('Sales')
plt.xticks(rotation=45)
plt.show()
# Store Open vs Closed Impact on Sales
plt.figure(figsize=(10, 6))
sns.boxplot(x='Open', y='Sales', data=df)
plt.title('Impact of Store Open/Closed on Sales')
plt.xlabel('Store Open')
plt.ylabel('Sales')
plt.show()
# Weekday vs. Weekend Sales
df['DayOfWeek'] = df['Date'].dt.dayofweek
plt.figure(figsize=(10, 6))
sns.boxplot(x='DayOfWeek', y='Sales', data=df)
plt.title('Weekday vs Weekend Sales Distribution')
plt.xlabel('Day of Week (0=Monday, 6=Sunday)')
plt.ylabel('Sales')
plt.show()
# Store Type Impact on Sales
plt.figure(figsize=(10, 6))
sns.boxplot(x='StoreType', y='Sales', data=df)
plt.title('Impact of Store Type on Sales')
plt.xlabel('Store Type')
plt.ylabel('Sales')
plt.show()
# Customer Count Trends Over Time
plt.figure(figsize=(10, 6))
sns.lineplot(x='Date', y='Customers', data=df)
plt.title('Customer Count Over Time')
plt.xlabel('Date')
plt.ylabel('Customers')
plt.xticks(rotation=45)
plt.show()


